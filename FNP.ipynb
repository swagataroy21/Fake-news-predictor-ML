{
 "cells": [
  {
   "cell_type": "code",
   "execution_count": 9,
   "metadata": {},
   "outputs": [],
   "source": [
    "import pandas as pd \n",
    "import numpy as np \n",
    "import nltk\n",
    "from sklearn.model_selection import train_test_split\n",
    "from sklearn.linear_model import LogisticRegression\n",
    "from sklearn.feature_extraction.text import TfidfVectorizer\n",
    "from sklearn.metrics import accuracy_score"
   ]
  },
  {
   "cell_type": "code",
   "execution_count": 11,
   "metadata": {},
   "outputs": [
    {
     "data": {
      "text/html": [
       "<div>\n",
       "<style scoped>\n",
       "    .dataframe tbody tr th:only-of-type {\n",
       "        vertical-align: middle;\n",
       "    }\n",
       "\n",
       "    .dataframe tbody tr th {\n",
       "        vertical-align: top;\n",
       "    }\n",
       "\n",
       "    .dataframe thead th {\n",
       "        text-align: right;\n",
       "    }\n",
       "</style>\n",
       "<table border=\"1\" class=\"dataframe\">\n",
       "  <thead>\n",
       "    <tr style=\"text-align: right;\">\n",
       "      <th></th>\n",
       "      <th>Unnamed: 0</th>\n",
       "      <th>title</th>\n",
       "      <th>text</th>\n",
       "      <th>label</th>\n",
       "    </tr>\n",
       "  </thead>\n",
       "  <tbody>\n",
       "    <tr>\n",
       "      <th>0</th>\n",
       "      <td>8476</td>\n",
       "      <td>You Can Smell Hillary’s Fear</td>\n",
       "      <td>Daniel Greenfield, a Shillman Journalism Fello...</td>\n",
       "      <td>FAKE</td>\n",
       "    </tr>\n",
       "    <tr>\n",
       "      <th>1</th>\n",
       "      <td>10294</td>\n",
       "      <td>Watch The Exact Moment Paul Ryan Committed Pol...</td>\n",
       "      <td>Google Pinterest Digg Linkedin Reddit Stumbleu...</td>\n",
       "      <td>FAKE</td>\n",
       "    </tr>\n",
       "    <tr>\n",
       "      <th>2</th>\n",
       "      <td>3608</td>\n",
       "      <td>Kerry to go to Paris in gesture of sympathy</td>\n",
       "      <td>U.S. Secretary of State John F. Kerry said Mon...</td>\n",
       "      <td>REAL</td>\n",
       "    </tr>\n",
       "    <tr>\n",
       "      <th>3</th>\n",
       "      <td>10142</td>\n",
       "      <td>Bernie supporters on Twitter erupt in anger ag...</td>\n",
       "      <td>— Kaydee King (@KaydeeKing) November 9, 2016 T...</td>\n",
       "      <td>FAKE</td>\n",
       "    </tr>\n",
       "    <tr>\n",
       "      <th>4</th>\n",
       "      <td>875</td>\n",
       "      <td>The Battle of New York: Why This Primary Matters</td>\n",
       "      <td>It's primary day in New York and front-runners...</td>\n",
       "      <td>REAL</td>\n",
       "    </tr>\n",
       "  </tbody>\n",
       "</table>\n",
       "</div>"
      ],
      "text/plain": [
       "   Unnamed: 0                                              title  \\\n",
       "0        8476                       You Can Smell Hillary’s Fear   \n",
       "1       10294  Watch The Exact Moment Paul Ryan Committed Pol...   \n",
       "2        3608        Kerry to go to Paris in gesture of sympathy   \n",
       "3       10142  Bernie supporters on Twitter erupt in anger ag...   \n",
       "4         875   The Battle of New York: Why This Primary Matters   \n",
       "\n",
       "                                                text label  \n",
       "0  Daniel Greenfield, a Shillman Journalism Fello...  FAKE  \n",
       "1  Google Pinterest Digg Linkedin Reddit Stumbleu...  FAKE  \n",
       "2  U.S. Secretary of State John F. Kerry said Mon...  REAL  \n",
       "3  — Kaydee King (@KaydeeKing) November 9, 2016 T...  FAKE  \n",
       "4  It's primary day in New York and front-runners...  REAL  "
      ]
     },
     "execution_count": 11,
     "metadata": {},
     "output_type": "execute_result"
    }
   ],
   "source": [
    "df=pd.read_csv('news.csv')\n",
    "df.head()"
   ]
  },
  {
   "cell_type": "code",
   "execution_count": 12,
   "metadata": {},
   "outputs": [],
   "source": [
    "x=df.text\n",
    "y=df.label"
   ]
  },
  {
   "cell_type": "code",
   "execution_count": 4,
   "metadata": {},
   "outputs": [],
   "source": [
    "x_train, x_test, y_train, y_test = train_test_split(x,y,test_size=0.2,random_state=0)"
   ]
  },
  {
   "cell_type": "code",
   "execution_count": 5,
   "metadata": {},
   "outputs": [],
   "source": [
    "tfidf_vectorizer = TfidfVectorizer(stop_words='english', max_df=0.7)"
   ]
  },
  {
   "cell_type": "code",
   "execution_count": 6,
   "metadata": {},
   "outputs": [],
   "source": [
    "tfidf_train = tfidf_vectorizer.fit_transform(x_train) \n",
    "tfidf_test  = tfidf_vectorizer.transform(x_test)"
   ]
  },
  {
   "cell_type": "code",
   "execution_count": 7,
   "metadata": {},
   "outputs": [
    {
     "data": {
      "text/plain": [
       "LogisticRegression()"
      ]
     },
     "execution_count": 7,
     "metadata": {},
     "output_type": "execute_result"
    }
   ],
   "source": [
    "model=LogisticRegression()\n",
    "model.fit(tfidf_train,y_train)"
   ]
  },
  {
   "cell_type": "code",
   "execution_count": 13,
   "metadata": {},
   "outputs": [
    {
     "name": "stdout",
     "output_type": "stream",
     "text": [
      "0.9155485398579322\n"
     ]
    }
   ],
   "source": [
    "y_pred = model.predict(tfidf_test)\n",
    "score = accuracy_score(y_test,y_pred)\n",
    "print(score)"
   ]
  },
  {
   "cell_type": "code",
   "execution_count": 14,
   "metadata": {},
   "outputs": [],
   "source": [
    "import pickle"
   ]
  },
  {
   "cell_type": "code",
   "execution_count": 15,
   "metadata": {},
   "outputs": [],
   "source": [
    "pickle.dump(model,open(\"model.pkl\",\"wb\"))"
   ]
  },
  {
   "cell_type": "code",
   "execution_count": 16,
   "metadata": {},
   "outputs": [],
   "source": [
    "def fake_news_det(news):\n",
    "    input_data = [news]\n",
    "    vectorized_input_data = tfidf_vectorizer.transform(input_data)\n",
    "    prediction = model.predict(vectorized_input_data)\n",
    "    print(prediction)"
   ]
  },
  {
   "cell_type": "code",
   "execution_count": 17,
   "metadata": {},
   "outputs": [
    {
     "name": "stdout",
     "output_type": "stream",
     "text": [
      "['FAKE']\n"
     ]
    }
   ],
   "source": [
    "fake_news_det(\"\"\"Go to Article \n",
    "President Barack Obama has been campaigning hard for the woman who is supposedly going to extend his legacy four more years. The only problem with stumping for Hillary Clinton, however, is sheâ€™s not exactly a candidate easy to get too enthused about.  \"\"\")"
   ]
  },
  {
   "cell_type": "code",
   "execution_count": 18,
   "metadata": {},
   "outputs": [
    {
     "name": "stdout",
     "output_type": "stream",
     "text": [
      "['FAKE']\n"
     ]
    }
   ],
   "source": [
    "fake_news_det(\"\"\"November 13, 2016 By 21wire Leave a Comment \n",
    "Episode #160 of SUNDAY WIRE SHOW resumes this November 13, 2016 as host Patrick Henningsen brings a 3 HOURS special broadcast of LIVE power-packed talk radio on ACR… \n",
    "LISTEN LIVE ON THIS PAGE AT THE FOLLOWING SCHEDULED SHOW TIMES: \n",
    "SUNDAYS – 5pm-8pm UK Time | 12pm-3pm ET (US) | 9am-12pm PT (US) \n",
    "This week’s edition of THE SUNDAY WIRE is on the road broadcasting LIVE from the Valley of the Sun. This week host Patrick Henningsen covers this week’s top stories in the US and internationally. In the first hour we’ll conduct a post-mortem on the incredible US Election which has produced President Elect Donald J Trump , and the aftermath – a nation divided punctuated by numerous street protests in part fuelled by Soros and the Democratic Party Machine . Later, we’re joined by our roving everyman , ACR Boiler Room contributor, Randy J , for an on the ground take on Election events from the West Coast, and beyond… \n",
    "SUPPORT 21WIRE – SUBSCRIBE & BECOME A MEMBER @21WIRE.TV \n",
    "Strap yourselves in and lower the blast shield – this is your brave new world… \n",
    "*NOTE: THIS EPISODE MAY CONTAIN STRONG LANGUAGE AND MATURE THEMES* \"\"\")"
   ]
  },
  {
   "cell_type": "code",
   "execution_count": 19,
   "metadata": {},
   "outputs": [
    {
     "name": "stdout",
     "output_type": "stream",
     "text": [
      "['REAL']\n"
     ]
    }
   ],
   "source": [
    "fake_news_det(\"\"\" \"Washington (CNN) The faction of the GOP that is unhappy with Donald Trump as the party's presumptive nominee has one last plan to stop the mogul: staging an all-out delegate revolt at the Republican National Convention.\n",
    "\n",
    "The far-fetched idea is the latest reflection of a campaign cycle that has been anything but ordinary, and stems from a continuing dissatisfaction among some conservative stalwarts with how Trump is behaving and running his campaign. But two longtime GOP veterans says they wouldn't bet on the effort working.\n",
    "\n",
    "The effort comes at a rough time for the GOP. As the Democratic Party's heaviest hitters, including President Barack Obama, Vice President Joe Biden and Massachusetts Sen. Elizabeth Warren, line up behind Hillary Clinton and against Trump, Republicans have been forced to criticize their own nominee. Recent comments from Trump about a federal judge's Mexican heritage have drawn widespread rebuke and put GOP leaders in a corner as they defend their endorsement of Trump while disavowing his comments.\n",
    "\n",
    "One of the vocal advocates for a delegate revolt is conservative commentator and Weekly Standard editor Bill Kristol, who has also been actively seeking a candidate to mount an independent bid against Trump, thus far to no avail.\n",
    "\n",
    "Kristol tweeted late Thursday that the idea of a \"\"conscience convention,\"\" where delegates are free to vote for whomever they want to, is also appealing.\n",
    "\n",
    "\"\"I've been focused on independent candidacy, & still am. But struck by sudden level of interest in possible delegate revolt at convention,\"\" Kristol tweeted. He added: \"\"A Convention of Conscience in Cleveland would be quite something. Made easier by fact Trump only won minority of total primary votes anyway.\"\"\n",
    "\n",
    "Bob Vander Plaats, the head of The Family Leader, an influential social conservative group in Iowa, told CNN's Kate Bolduan Friday morning that \"\"everything does need to be on the table\"\" at the convention, though he stopped short of calling for a revolt on the convention floor.\n",
    "\n",
    "\"\"We want a principled conservative and disciplined candidate who is the standard-bearer of this party,\"\" said Vander Plaats, who backed Texas Sen. Ted Cruz during the primaries. He said Trump has time before the convention to \"\"have the concerns laid to rest.\"\"\n",
    "\n",
    "\"\"All I'm doing is adapting to the circumstances,\"\" Kendal Unruh told ABC. \"\"I certainly believe Trump's demagogic racist comments are hurting him.\"\"\n",
    "\n",
    "The rules enacted by the previous convention, which govern in 2016 until delegates pass a new set of rules, state that even if a delegate casts a ballot for a candidate other than one they are bound to, the convention secretary will record their bound vote.\n",
    "\n",
    "In order to change that rule, the 112 delegates (two from each state and territory) on the Rules Committee would have to pass different rules and bring those to the floor of the convention, where a majority of delegates present would have to approve them.\n",
    "\n",
    "Rules expert and RNC veteran Jim Bopp, an Indiana delegate who serves as special counsel to the RNC Rules Committee, said he has spoken with people who want to \"\"keep the option open to manipulate the rules in some way to deny Trump the nomination,\"\" but he said he wouldn't bet on any changes.\n",
    "\n",
    "\"\"I would put money on no rules changes that would affect the outcome of the nominating process,\"\" Bopp told CNN. \"\"I think it's highly likely that no rules changes would be adopted that would affect the nomination.\"\"\n",
    "\n",
    "Bopp said there's also a counter movement within Rules insiders to pass a rule that would prevent any other rules changes from going into effect until the close of the convention.\n",
    "\n",
    "Rules Committee and Oregon RNC member Solomon Yue is behind that effort, and has been pushing the RNC this year to adopt rules that give less power to the party and more to the delegates. He tried but failed to get the party to adopt rules that would require bigger majorities to pass business at the convention.\n",
    "\n",
    "Yue says with roughly 80% of the convention delegates being either Trump or Cruz backers, the anti-Trump forces don't have much strength.\n",
    "\n",
    "\"\"The common denominator of the delegates is anti-establishment, anti-Washington,\"\" Yue said. \"\"And if you think about 'Never Trump' people, they are representing Washington and the establishment.\"\"\n",
    "\n",
    "Part of the philosophy for a delegate revolt comes from longtime RNC veteran Curly Haugland, from North Dakota, and a book he co-wrote with public policy consultant Sean Parnell. \"\"Unbound\"\" uses the history of the RNC to make the case that RNC rules dictate that delegates be allowed to vote their conscience.\n",
    "\n",
    "\"\"What Curly and I are contending is that because of RNC rules, there is no such thing as binding,\"\" Parnell told CNN, saying the binding rules that currently are in place are in a part of the rules package that govern pre-convention during the delegate selection process.\n",
    "\n",
    "But Parnell also acknowledged that any effort to make the interpretation stick would require at the very least a handful of state delegations if not a majority of delegates on the floor.\n",
    "\n",
    "\"\"It would be messy. Good television though,\"\" Parnell said. \"\"I would not call it likely. My hope is that delegates are free to vote however they want to vote, and it's going to be up to the chair whether or not to allow that. But I think unless Donald Trump actually does go shoot somebody on Fifth Avenue, I don't think this is going to cost him the nomination.\"\"\n",
    "\n",
    "Neither the Trump campaign nor Republican National Committee immediately responded to a request for comment on the chatter about a delegate revolt.\n",
    "\n",
    "There has been intense focus on the Rules Committee for months, going back to when there was a possibility of no Republican candidate getting enough delegates to clinch the nomination outright. With the prospect of a contested convention, the Cruz campaign made a concerted effort to stock the Rules Committee and state delegations with loyalists who would support Rules that would benefit Cruz in a bid to win the nomination on multiple ballots.\n",
    "\n",
    "But after Cruz lost Indiana soundly and suspended his campaign, the prospect of a contested convention vanished and Trump rolled to the magic number to clinch the nomination.\n",
    "\n",
    "Meanwhile, the Cruz campaign urged supporters to continue to become delegates and earn leadership spots to influence the platform at the convention.\n",
    "\n",
    "Though some in the party have never warmed to Trump, the intensity of finding a way to prevent his formal nomination has grown in recent days after Trump's comments about a federal judge inflamed even the leaders of his own party.\n",
    "\n",
    "Trump questioned the impartiality of the district court judge overseeing a lawsuit related to his venture Trump University, saying the Indiana-born judge's Mexican ancestry could bias him against Trump. The mogul cited his campaign promise to build a wall along the border with Mexico in making the comments.\n",
    "\n",
    "Though the presumptive nominee has repeatedly stood behind and doubled down on the comments, his stance has drawn outrage from the likes of Senate Majority Leader Mitch McConnell and House Speaker Paul Ryan, who called the remarks \"\"the textbook definition of a racist comment.\"\"\n",
    "\n",
    "Still, only a small handful of Republicans have withdrawn or withheld their endorsements of Trump. Vulnerable Illinois Sen. Mark Kirk disavowed Trump this week and said he could not endorse the party's nominee after all, but Ryan, McConnell and others have stood by their endorsements, saying Clinton would be a worse choice.\"\n",
    "\"\"\")"
   ]
  },
  {
   "cell_type": "code",
   "execution_count": null,
   "metadata": {},
   "outputs": [],
   "source": []
  }
 ],
 "metadata": {
  "kernelspec": {
   "display_name": "Python 3",
   "language": "python",
   "name": "python3"
  },
  "language_info": {
   "codemirror_mode": {
    "name": "ipython",
    "version": 3
   },
   "file_extension": ".py",
   "mimetype": "text/x-python",
   "name": "python",
   "nbconvert_exporter": "python",
   "pygments_lexer": "ipython3",
   "version": "3.8.3"
  }
 },
 "nbformat": 4,
 "nbformat_minor": 4
}
